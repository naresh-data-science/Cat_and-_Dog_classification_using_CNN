{
  "nbformat": 4,
  "nbformat_minor": 0,
  "metadata": {
    "colab": {
      "provenance": [],
      "private_outputs": true
    },
    "kernelspec": {
      "name": "python3",
      "display_name": "Python 3"
    },
    "language_info": {
      "name": "python"
    },
    "gpuClass": "standard"
  },
  "cells": [
    {
      "cell_type": "code",
      "execution_count": null,
      "metadata": {
        "id": "m30EayVYOnDX"
      },
      "outputs": [],
      "source": [
        "import numpy as np\n",
        "import pandas as pd\n",
        "import matplotlib.pyplot as plt\n",
        "import tensorflow as tf\n",
        "from tensorflow import keras"
      ]
    },
    {
      "cell_type": "code",
      "source": [
        "from tensorflow.keras.models import Sequential\n",
        "from tensorflow.keras.layers import Dense, Flatten ,Conv2D, MaxPool2D, Dropout, Activation, LeakyReLU\n",
        "from tensorflow.keras.optimizers import Adam, Adadelta, Adamax, Adagrad\n",
        "from tensorflow.keras.activations import sigmoid, relu, softmax\n",
        "from tensorflow.keras.preprocessing.image import ImageDataGenerator"
      ],
      "metadata": {
        "id": "VFiPq_x-P01o"
      },
      "execution_count": null,
      "outputs": []
    },
    {
      "cell_type": "code",
      "source": [
        "path = \"/content/drive/MyDrive/data set\"\n"
      ],
      "metadata": {
        "id": "z2DxDWcmP046"
      },
      "execution_count": null,
      "outputs": []
    },
    {
      "cell_type": "code",
      "source": [
        "train_path = \"/content/drive/MyDrive/data set/training_set/training_set\"\n",
        "test_path = \"/content/drive/MyDrive/data set/test_set/test_set\"\n"
      ],
      "metadata": {
        "id": "K5iV2qgnP074"
      },
      "execution_count": null,
      "outputs": []
    },
    {
      "cell_type": "code",
      "source": [
        "img_width , img_height = 150,150\n"
      ],
      "metadata": {
        "id": "gwrrkbVkP0-_"
      },
      "execution_count": null,
      "outputs": []
    },
    {
      "cell_type": "code",
      "source": [
        "from glob import glob\n",
        "glob(\"/content/drive/MyDrive/data set/training_set/training_set/*\")"
      ],
      "metadata": {
        "id": "rfwVVgomP1Co"
      },
      "execution_count": null,
      "outputs": []
    },
    {
      "cell_type": "code",
      "source": [
        "glob(\"/content/drive/MyDrive/data set/test_set/test_set/*\")"
      ],
      "metadata": {
        "id": "k4VJEANtP1Fr"
      },
      "execution_count": null,
      "outputs": []
    },
    {
      "cell_type": "code",
      "source": [
        "train_gen = ImageDataGenerator(\n",
        "    rotation_range=0,\n",
        "    width_shift_range=0.1,\n",
        "    height_shift_range=0.1,\n",
        "    shear_range=0.1,\n",
        "    zoom_range=0.2,\n",
        "    fill_mode='nearest',\n",
        "    horizontal_flip=False,\n",
        "    vertical_flip=False,\n",
        "    rescale=1/255,\n",
        ")\n",
        "test_gen = ImageDataGenerator(rescale=1/255)"
      ],
      "metadata": {
        "id": "HITCaMhuP1JN"
      },
      "execution_count": null,
      "outputs": []
    },
    {
      "cell_type": "code",
      "source": [
        "labels = ['cats','dogs']"
      ],
      "metadata": {
        "id": "7Ygji6aVP1MX"
      },
      "execution_count": null,
      "outputs": []
    },
    {
      "cell_type": "code",
      "source": [
        "train = train_gen.flow_from_directory(train_path,target_size=(img_width,img_height),classes=labels,class_mode=\"categorical\",batch_size=256)\n",
        "test = test_gen.flow_from_directory(test_path,target_size=(img_width,img_height),classes=labels,class_mode=\"categorical\",batch_size=256)"
      ],
      "metadata": {
        "id": "2t2q9Xd5P1Ps"
      },
      "execution_count": null,
      "outputs": []
    },
    {
      "cell_type": "code",
      "source": [
        "model = Sequential()\n",
        "model.add(Conv2D(128,kernel_size = (3,3), input_shape =(img_height,img_width,3),padding = 'same', activation = 'relu'))\n",
        "model.add(MaxPool2D(pool_size=(2,2)))\n",
        "model.add(Conv2D(64,kernel_size= (3,3),padding= 'same',activation= 'relu'))\n",
        "model.add(MaxPool2D(pool_size=(2,2)))\n",
        "model.add(Dropout(0.2))\n",
        "model.add(Conv2D(32,kernel_size=(3,3),padding='same',activation='relu'))\n",
        "model.add(MaxPool2D(pool_size=(2,2)))\n",
        "model.add(Dropout(0.2))\n",
        "model.add(Dense(32,activation=('relu')))\n",
        "model.add(Flatten())\n",
        "model.add(Dense(32,activation='relu'))\n",
        "model.add(Dense(1,activation='softmax'))"
      ],
      "metadata": {
        "id": "Wat-ZUW3P1S7"
      },
      "execution_count": null,
      "outputs": []
    },
    {
      "cell_type": "code",
      "source": [
        "model.summary()"
      ],
      "metadata": {
        "id": "h1_dlWmOP1Vt"
      },
      "execution_count": null,
      "outputs": []
    },
    {
      "cell_type": "code",
      "source": [
        "model.compile( optimizer='adam',loss= \"binary_crossentropy\",metrics=['accuracy'])"
      ],
      "metadata": {
        "id": "I9lm4Gm6P1Yk"
      },
      "execution_count": null,
      "outputs": []
    },
    {
      "cell_type": "code",
      "source": [
        "model.fit(train,epochs= 1,validation_data=(test))"
      ],
      "metadata": {
        "id": "6R5yw7RSP1bk"
      },
      "execution_count": null,
      "outputs": []
    },
    {
      "cell_type": "code",
      "source": [
        "model.history.history.keys()"
      ],
      "metadata": {
        "id": "kXy_GPoSP1eu"
      },
      "execution_count": null,
      "outputs": []
    },
    {
      "cell_type": "code",
      "source": [
        "train_loss = model.history.history['loss']\n",
        "train_loss"
      ],
      "metadata": {
        "id": "nhGrtyNYP1h3"
      },
      "execution_count": null,
      "outputs": []
    },
    {
      "cell_type": "code",
      "source": [
        "train_acc = model.history.history['accuracy']\n",
        "train_acc"
      ],
      "metadata": {
        "id": "NpVIs3pVP1k5"
      },
      "execution_count": null,
      "outputs": []
    },
    {
      "cell_type": "code",
      "source": [
        "test_loss = model.history.history['val_loss']"
      ],
      "metadata": {
        "id": "4BUQkZINi0KM"
      },
      "execution_count": null,
      "outputs": []
    },
    {
      "cell_type": "code",
      "source": [
        "test_acc = model.history.history['val_accuracy']"
      ],
      "metadata": {
        "id": "p_5sgF0liiCO"
      },
      "execution_count": null,
      "outputs": []
    },
    {
      "cell_type": "code",
      "source": [
        "epochs = 1"
      ],
      "metadata": {
        "id": "lr30J3fquvfA"
      },
      "execution_count": null,
      "outputs": []
    },
    {
      "cell_type": "code",
      "source": [
        "plt.figure(figsize=(8,8))\n",
        "plt.plot(np.arange(epochs),train_loss,color='red', label='train_loss')\n",
        "plt.plot(np.arange(epochs),train_acc,color='blue',label='train_acc')\n",
        "plt.plot(np.arange(epochs),test_loss,color='green',label='test_loss')\n",
        "plt.plot(np.arange(epochs),test_acc,color='yellow',label='test_acc')\n",
        "plt.legend()\n",
        "plt.xlabel(epochs)\n",
        "plt.show()"
      ],
      "metadata": {
        "id": "-aYwrMVZP1y4"
      },
      "execution_count": null,
      "outputs": []
    },
    {
      "cell_type": "code",
      "source": [
        "loss, acc = model.evaluate(test)"
      ],
      "metadata": {
        "id": "wQvQnKf1P4ax"
      },
      "execution_count": null,
      "outputs": []
    },
    {
      "cell_type": "code",
      "source": [
        "print(loss)\n",
        "print(acc)"
      ],
      "metadata": {
        "id": "_IG8LCcNP_QZ"
      },
      "execution_count": null,
      "outputs": []
    },
    {
      "cell_type": "code",
      "source": [
        "import cv2"
      ],
      "metadata": {
        "id": "RaCByf7BP_oF"
      },
      "execution_count": null,
      "outputs": []
    },
    {
      "cell_type": "code",
      "source": [
        "from tensorflow.keras.preprocessing import image"
      ],
      "metadata": {
        "id": "j6Wv_T6SP_5l"
      },
      "execution_count": null,
      "outputs": []
    },
    {
      "cell_type": "code",
      "source": [
        "def fun(path):\n",
        "    img = cv2.imread(path)\n",
        "    im_resize = cv2.resize(img,(img_height,img_width),interpolation = cv2.INTER_LINEAR)\n",
        "    plt.imshow(cv2.cvtColor(im_resize,cv2.COLOR_BGR2RGB))\n",
        "    \n",
        "    \n",
        "    image_pred = image.load_img(path, target_size=(img_height,img_width))\n",
        "    image_pred = image.img_to_array(image_pred)\n",
        "    a = np.expand_dims(image_pred,axis = 0)\n",
        "    #print(a)\n",
        "    result = model.predict(a)\n",
        "    print('predicted_image =',result)\n",
        "    if result > 0.5:\n",
        "        print(\"cat\")\n",
        "    else:\n",
        "        print(\"dog\")"
      ],
      "metadata": {
        "id": "dNvSKeWVQAD8"
      },
      "execution_count": null,
      "outputs": []
    },
    {
      "cell_type": "code",
      "source": [
        "fun(\"/content/pexels-photo-617278.jpeg\")"
      ],
      "metadata": {
        "id": "BV1H2UsgQAHU"
      },
      "execution_count": null,
      "outputs": []
    },
    {
      "cell_type": "code",
      "source": [
        "fun(\"/content/pexels-photo-895259.jpeg\")"
      ],
      "metadata": {
        "id": "8c2ujbW1QAKp"
      },
      "execution_count": null,
      "outputs": []
    },
    {
      "cell_type": "code",
      "source": [],
      "metadata": {
        "id": "FW81oV7ZQANp"
      },
      "execution_count": null,
      "outputs": []
    },
    {
      "cell_type": "code",
      "source": [],
      "metadata": {
        "id": "9GgwIpYGQARF"
      },
      "execution_count": null,
      "outputs": []
    },
    {
      "cell_type": "code",
      "source": [],
      "metadata": {
        "id": "DoGDv1yjQATv"
      },
      "execution_count": null,
      "outputs": []
    },
    {
      "cell_type": "code",
      "source": [],
      "metadata": {
        "id": "ARk9jYqdQAXI"
      },
      "execution_count": null,
      "outputs": []
    },
    {
      "cell_type": "code",
      "source": [],
      "metadata": {
        "id": "Kru5RtIzQAaR"
      },
      "execution_count": null,
      "outputs": []
    },
    {
      "cell_type": "code",
      "source": [],
      "metadata": {
        "id": "VpygAGfOQAdZ"
      },
      "execution_count": null,
      "outputs": []
    },
    {
      "cell_type": "code",
      "source": [],
      "metadata": {
        "id": "PnHpH6T8QAgp"
      },
      "execution_count": null,
      "outputs": []
    },
    {
      "cell_type": "code",
      "source": [],
      "metadata": {
        "id": "iY4Pgq9HQAj_"
      },
      "execution_count": null,
      "outputs": []
    },
    {
      "cell_type": "code",
      "source": [],
      "metadata": {
        "id": "I2v37CJiQAna"
      },
      "execution_count": null,
      "outputs": []
    },
    {
      "cell_type": "code",
      "source": [],
      "metadata": {
        "id": "JhzEliVPQAq2"
      },
      "execution_count": null,
      "outputs": []
    },
    {
      "cell_type": "code",
      "source": [],
      "metadata": {
        "id": "eSRS_FssQAuD"
      },
      "execution_count": null,
      "outputs": []
    },
    {
      "cell_type": "code",
      "source": [],
      "metadata": {
        "id": "lmerL-CKQAx4"
      },
      "execution_count": null,
      "outputs": []
    },
    {
      "cell_type": "code",
      "source": [],
      "metadata": {
        "id": "5XtBiAljQA1k"
      },
      "execution_count": null,
      "outputs": []
    }
  ]
}